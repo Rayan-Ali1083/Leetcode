{
 "cells": [
  {
   "cell_type": "code",
   "execution_count": 82,
   "metadata": {},
   "outputs": [
    {
     "name": "stdout",
     "output_type": "stream",
     "text": [
      "5\n"
     ]
    }
   ],
   "source": [
    "# Two pointer approach used as it is efficient and in-place\n",
    "\n",
    "class Solution(object):\n",
    "    def merge(self, nums1, m, nums2, n):\n",
    "        \"\"\"\n",
    "        :type nums1: List[int]\n",
    "        :type m: int\n",
    "        :type nums2: List[int]\n",
    "        :type n: int\n",
    "        :rtype: None Do not return anything, modify nums1 in-place instead.\n",
    "        \"\"\"\n",
    "        \n",
    "        p1 = m-1\n",
    "        p2 = n-1\n",
    "        k = m + n - 1\n",
    "\n",
    "        while p2 >= 0:\n",
    "            if nums1[p1] > nums2[p2] and p1 >=0:\n",
    "                nums1[k] = nums1[p1]\n",
    "                k-=1\n",
    "                p1-=1\n",
    "            else:\n",
    "                nums1[k] = nums2[p2]\n",
    "                k-=1\n",
    "                p2-=1"
   ]
  }
 ],
 "metadata": {
  "kernelspec": {
   "display_name": "Python 3",
   "language": "python",
   "name": "python3"
  },
  "language_info": {
   "codemirror_mode": {
    "name": "ipython",
    "version": 3
   },
   "file_extension": ".py",
   "mimetype": "text/x-python",
   "name": "python",
   "nbconvert_exporter": "python",
   "pygments_lexer": "ipython3",
   "version": "3.11.2"
  },
  "orig_nbformat": 4
 },
 "nbformat": 4,
 "nbformat_minor": 2
}
