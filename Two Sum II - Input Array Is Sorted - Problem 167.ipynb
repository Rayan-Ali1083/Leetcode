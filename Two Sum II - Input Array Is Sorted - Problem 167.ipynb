{
 "cells": [
  {
   "cell_type": "code",
   "execution_count": null,
   "metadata": {},
   "outputs": [],
   "source": [
    "class Solution(object):\n",
    "    def twoSum(self, numbers, target):\n",
    "        \"\"\"\n",
    "        :type numbers: List[int]\n",
    "        :type target: int\n",
    "        :rtype: List[int]\n",
    "        \"\"\"\n",
    "        i=0\n",
    "        j=len(numbers)-1\n",
    "\n",
    "        while i < j:\n",
    "            if numbers[i] + numbers[j] > target:\n",
    "                j-=1\n",
    "            elif numbers[i] + numbers[j] < target:\n",
    "                i+=1\n",
    "            else:\n",
    "                return [i+1, j+1]"
   ]
  }
 ],
 "metadata": {
  "language_info": {
   "name": "python"
  },
  "orig_nbformat": 4
 },
 "nbformat": 4,
 "nbformat_minor": 2
}
