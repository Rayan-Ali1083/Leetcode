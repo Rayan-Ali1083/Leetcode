{
 "cells": [
  {
   "cell_type": "code",
   "execution_count": 25,
   "metadata": {},
   "outputs": [
    {
     "name": "stdout",
     "output_type": "stream",
     "text": [
      "amanaplanacanalpanama\n",
      "True\n"
     ]
    }
   ],
   "source": [
    "import re\n",
    "\n",
    "class Solution(object):\n",
    "    def isPalindrome(self, s):\n",
    "        \"\"\"\n",
    "        :type s: str\n",
    "        :rtype: bool\n",
    "        \"\"\"\n",
    "\n",
    "        if s == \" \" or s == \"\":\n",
    "            return True\n",
    "        \n",
    "        s = s.lower()\n",
    "        pattern = re.compile(r'[a-z0-9]+')\n",
    "\n",
    "        matches = pattern.findall(s)\n",
    "\n",
    "        result = ''.join(matches)\n",
    "\n",
    "        length = len(result)\n",
    "\n",
    "        for i in range(int(length/2)):\n",
    "            if result[i] != result[length - i -1]:\n",
    "                return False\n",
    "\n",
    "        return True"
   ]
  }
 ],
 "metadata": {
  "kernelspec": {
   "display_name": "Python 3",
   "language": "python",
   "name": "python3"
  },
  "language_info": {
   "codemirror_mode": {
    "name": "ipython",
    "version": 3
   },
   "file_extension": ".py",
   "mimetype": "text/x-python",
   "name": "python",
   "nbconvert_exporter": "python",
   "pygments_lexer": "ipython3",
   "version": "3.11.2"
  },
  "orig_nbformat": 4
 },
 "nbformat": 4,
 "nbformat_minor": 2
}
