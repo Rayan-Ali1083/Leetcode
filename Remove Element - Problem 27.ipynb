{
 "cells": [
  {
   "cell_type": "code",
   "execution_count": null,
   "metadata": {},
   "outputs": [],
   "source": [
    "# Two pointer approach used as it is efficient and in-place\n",
    "\n",
    "class Solution(object):\n",
    "    def removeElement(self, nums, val):\n",
    "        \"\"\"\n",
    "        :type nums: List[int]\n",
    "        :type val: int\n",
    "        :rtype: int\n",
    "        \"\"\"\n",
    "        writer = 0\n",
    "\n",
    "        for reader in range(len(nums)):\n",
    "            if nums[reader] != val:\n",
    "                nums[writer] = nums[reader]\n",
    "                writer += 1\n",
    "        \n",
    "        return writer"
   ]
  }
 ],
 "metadata": {
  "language_info": {
   "name": "python"
  },
  "orig_nbformat": 4
 },
 "nbformat": 4,
 "nbformat_minor": 2
}
